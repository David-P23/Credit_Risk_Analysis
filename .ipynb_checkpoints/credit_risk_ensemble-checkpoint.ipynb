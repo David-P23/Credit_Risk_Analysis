{
 "cells": [
  {
   "cell_type": "code",
   "execution_count": null,
   "metadata": {},
   "outputs": [],
   "source": [
    "import warnings\n",
    "warnings.filterwarnings('ignore')"
   ]
  },
  {
   "cell_type": "code",
   "execution_count": null,
   "metadata": {},
   "outputs": [],
   "source": [
    "import numpy as np\n",
    "import pandas as pd\n",
    "from pathlib import Path\n",
    "from collections import Counter"
   ]
  },
  {
   "cell_type": "code",
   "execution_count": null,
   "metadata": {},
   "outputs": [],
   "source": [
    "from sklearn.metrics import balanced_accuracy_score\n",
    "from sklearn.metrics import confusion_matrix\n",
    "from imblearn.metrics import classification_report_imbalanced"
   ]
  },
  {
   "cell_type": "markdown",
   "metadata": {},
   "source": [
    "# Read the CSV and Perform Basic Data Cleaning"
   ]
  },
  {
   "cell_type": "code",
   "execution_count": null,
   "metadata": {},
   "outputs": [],
   "source": [
    "# https://help.lendingclub.com/hc/en-us/articles/215488038-What-do-the-different-Note-statuses-mean-\n",
    "\n",
    "columns = [\n",
    "    \"loan_amnt\", \"int_rate\", \"installment\", \"home_ownership\",\n",
    "    \"annual_inc\", \"verification_status\", \"issue_d\", \"loan_status\",\n",
    "    \"pymnt_plan\", \"dti\", \"delinq_2yrs\", \"inq_last_6mths\",\n",
    "    \"open_acc\", \"pub_rec\", \"revol_bal\", \"total_acc\",\n",
    "    \"initial_list_status\", \"out_prncp\", \"out_prncp_inv\", \"total_pymnt\",\n",
    "    \"total_pymnt_inv\", \"total_rec_prncp\", \"total_rec_int\", \"total_rec_late_fee\",\n",
    "    \"recoveries\", \"collection_recovery_fee\", \"last_pymnt_amnt\", \"next_pymnt_d\",\n",
    "    \"collections_12_mths_ex_med\", \"policy_code\", \"application_type\", \"acc_now_delinq\",\n",
    "    \"tot_coll_amt\", \"tot_cur_bal\", \"open_acc_6m\", \"open_act_il\",\n",
    "    \"open_il_12m\", \"open_il_24m\", \"mths_since_rcnt_il\", \"total_bal_il\",\n",
    "    \"il_util\", \"open_rv_12m\", \"open_rv_24m\", \"max_bal_bc\",\n",
    "    \"all_util\", \"total_rev_hi_lim\", \"inq_fi\", \"total_cu_tl\",\n",
    "    \"inq_last_12m\", \"acc_open_past_24mths\", \"avg_cur_bal\", \"bc_open_to_buy\",\n",
    "    \"bc_util\", \"chargeoff_within_12_mths\", \"delinq_amnt\", \"mo_sin_old_il_acct\",\n",
    "    \"mo_sin_old_rev_tl_op\", \"mo_sin_rcnt_rev_tl_op\", \"mo_sin_rcnt_tl\", \"mort_acc\",\n",
    "    \"mths_since_recent_bc\", \"mths_since_recent_inq\", \"num_accts_ever_120_pd\", \"num_actv_bc_tl\",\n",
    "    \"num_actv_rev_tl\", \"num_bc_sats\", \"num_bc_tl\", \"num_il_tl\",\n",
    "    \"num_op_rev_tl\", \"num_rev_accts\", \"num_rev_tl_bal_gt_0\",\n",
    "    \"num_sats\", \"num_tl_120dpd_2m\", \"num_tl_30dpd\", \"num_tl_90g_dpd_24m\",\n",
    "    \"num_tl_op_past_12m\", \"pct_tl_nvr_dlq\", \"percent_bc_gt_75\", \"pub_rec_bankruptcies\",\n",
    "    \"tax_liens\", \"tot_hi_cred_lim\", \"total_bal_ex_mort\", \"total_bc_limit\",\n",
    "    \"total_il_high_credit_limit\", \"hardship_flag\", \"debt_settlement_flag\"\n",
    "]\n",
    "\n",
    "target = [\"loan_status\"]"
   ]
  },
  {
   "cell_type": "code",
   "execution_count": null,
   "metadata": {},
   "outputs": [],
   "source": [
    "# Load the data\n",
    "file_path = Path('LoanStats_2019Q1.csv')\n",
    "df = pd.read_csv(file_path, skiprows=1)[:-2]\n",
    "df = df.loc[:, columns].copy()\n",
    "\n",
    "# Drop the null columns where all values are null\n",
    "df = df.dropna(axis='columns', how='all')\n",
    "\n",
    "# Drop the null rows\n",
    "df = df.dropna()\n",
    "\n",
    "# Remove the `Issued` loan status\n",
    "issued_mask = df['loan_status'] != 'Issued'\n",
    "df = df.loc[issued_mask]\n",
    "\n",
    "# convert interest rate to numerical\n",
    "df['int_rate'] = df['int_rate'].str.replace('%', '')\n",
    "df['int_rate'] = df['int_rate'].astype('float') / 100\n",
    "\n",
    "\n",
    "# Convert the target column values to low_risk and high_risk based on their values\n",
    "x = {'Current': 'low_risk'}   \n",
    "df = df.replace(x)\n",
    "\n",
    "x = dict.fromkeys(['Late (31-120 days)', 'Late (16-30 days)', 'Default', 'In Grace Period'], 'high_risk')    \n",
    "df = df.replace(x)\n",
    "\n",
    "df.reset_index(inplace=True, drop=True)\n",
    "\n",
    "df.head()"
   ]
  },
  {
   "cell_type": "markdown",
   "metadata": {},
   "source": [
    "# Split the Data into Training and Testing"
   ]
  },
  {
   "cell_type": "code",
   "execution_count": null,
   "metadata": {},
   "outputs": [],
   "source": [
    "# Create our features\n",
    "X = pd.get_dummies(df, columns=['home_ownership', 'verification_status', 'issue_d', 'pymnt_plan', \n",
    "                'initial_list_status', 'next_pymnt_d', 'application_type', 'hardship_flag', \n",
    "                'debt_settlement_flag']).drop('loan_status', axis=1)\n",
    "\n",
    "# Create our target\n",
    "y = df['loan_status']\n",
    "X.head()"
   ]
  },
  {
   "cell_type": "code",
   "execution_count": null,
   "metadata": {},
   "outputs": [],
   "source": [
    "X.describe()"
   ]
  },
  {
   "cell_type": "code",
   "execution_count": null,
   "metadata": {},
   "outputs": [],
   "source": [
    "# Check the balance of our target values\n",
    "y.value_counts()"
   ]
  },
  {
   "cell_type": "code",
   "execution_count": null,
   "metadata": {},
   "outputs": [],
   "source": [
    "from sklearn.model_selection import train_test_split\n",
    "X_train, X_test, y_train, y_test = train_test_split(X, y, random_state=1, stratify=y)\n",
    "\n",
    "print(Counter(y_train))\n",
    "print(Counter(y_test))"
   ]
  },
  {
   "cell_type": "markdown",
   "metadata": {},
   "source": [
    "# Ensemble Learners\n",
    "\n",
    "In this section, you will compare two ensemble algorithms to determine which algorithm results in the best performance. You will train a Balanced Random Forest Classifier and an Easy Ensemble AdaBoost classifier . For each algorithm, be sure to complete the folliowing steps:\n",
    "\n",
    "1. Train the model using the training data. \n",
    "2. Calculate the balanced accuracy score from sklearn.metrics.\n",
    "3. Print the confusion matrix from sklearn.metrics.\n",
    "4. Generate a classication report using the `imbalanced_classification_report` from imbalanced-learn.\n",
    "5. For the Balanced Random Forest Classifier onely, print the feature importance sorted in descending order (most important feature to least important) along with the feature score\n",
    "\n",
    "Note: Use a random state of 1 for each algorithm to ensure consistency between tests"
   ]
  },
  {
   "cell_type": "markdown",
   "metadata": {},
   "source": [
    "### Balanced Random Forest Classifier"
   ]
  },
  {
   "cell_type": "code",
   "execution_count": null,
   "metadata": {},
   "outputs": [],
   "source": [
    "# Resample the training data with the BalancedRandomForestClassifier\n",
    "from imblearn.ensemble import BalancedRandomForestClassifier\n",
    "brfc = BalancedRandomForestClassifier(n_estimators=100, random_state=1)\n",
    "brfc.fit(X_train, y_train)"
   ]
  },
  {
   "cell_type": "code",
   "execution_count": null,
   "metadata": {},
   "outputs": [],
   "source": [
    "# Calculated the balanced accuracy score\n",
    "y_pred = brfc.predict(X_test)\n",
    "balanced_accuracy_score(y_test, y_pred)"
   ]
  },
  {
   "cell_type": "code",
   "execution_count": null,
   "metadata": {},
   "outputs": [],
   "source": [
    "# Display the confusion matrix\n",
    "cm = confusion_matrix(y_test, y_pred)"
   ]
  },
  {
   "cell_type": "code",
   "execution_count": null,
   "metadata": {},
   "outputs": [],
   "source": [
    "# Print the imbalanced classification report\n",
    "print(classification_report_imbalanced(y_test, y_pred))"
   ]
  },
  {
   "cell_type": "code",
   "execution_count": 22,
   "metadata": {},
   "outputs": [
    {
     "name": "stdout",
     "output_type": "stream",
     "text": [
      "total_rec_prncp: (0.07376667607601396)\n",
      "total_rec_int: (0.06390324452717588)\n",
      "total_pymnt_inv: (0.06073336071656837)\n",
      "total_pymnt: (0.05811195697921674)\n",
      "last_pymnt_amnt: (0.04951778391272079)\n",
      "int_rate: (0.02458051789018817)\n",
      "out_prncp: (0.020398879691407974)\n",
      "dti: (0.018625883307901298)\n",
      "max_bal_bc: (0.018378884967316288)\n",
      "issue_d_Jan-2019: (0.017480030880564042)\n",
      "installment: (0.01698703048268034)\n",
      "annual_inc: (0.01661321625916749)\n",
      "bc_util: (0.01623198470200134)\n",
      "mths_since_recent_inq: (0.015821923028819504)\n",
      "total_bc_limit: (0.015385686591272854)\n",
      "out_prncp_inv: (0.015337070167127763)\n",
      "avg_cur_bal: (0.01506649550412446)\n",
      "issue_d_Mar-2019: (0.014926455495755147)\n",
      "revol_bal: (0.014924489307566175)\n",
      "mo_sin_old_rev_tl_op: (0.014583210727445232)\n",
      "total_bal_ex_mort: (0.01428231366275729)\n",
      "tot_cur_bal: (0.014238473969302518)\n",
      "mo_sin_old_il_acct: (0.014067369111282934)\n",
      "total_bal_il: (0.01351439379612201)\n",
      "bc_open_to_buy: (0.013343855077273033)\n",
      "il_util: (0.013138998568932102)\n",
      "tot_hi_cred_lim: (0.013106005248709657)\n",
      "all_util: (0.013009300843392654)\n",
      "total_il_high_credit_limit: (0.012104219411815444)\n",
      "num_rev_accts: (0.011927748948209041)\n",
      "total_rev_hi_lim: (0.011194718062040365)\n",
      "mths_since_recent_bc: (0.01072808547266412)\n",
      "pct_tl_nvr_dlq: (0.010485766778776592)\n",
      "total_acc: (0.010480039757813501)\n",
      "mths_since_rcnt_il: (0.010433852907121713)\n",
      "mo_sin_rcnt_rev_tl_op: (0.010171477424921242)\n",
      "num_rev_tl_bal_gt_0: (0.00990081847673844)\n",
      "loan_amnt: (0.00982912014219909)\n",
      "inq_last_12m: (0.009709211384642156)\n",
      "num_bc_tl: (0.00939406635676521)\n",
      "num_op_rev_tl: (0.009390960836832822)\n",
      "mo_sin_rcnt_tl: (0.008883434647669785)\n",
      "num_actv_bc_tl: (0.008287412625195438)\n",
      "total_cu_tl: (0.00794880573688952)\n",
      "percent_bc_gt_75: (0.007944596002325902)\n",
      "num_sats: (0.007841727903546316)\n",
      "num_actv_rev_tl: (0.007813875400824535)\n",
      "open_acc: (0.007760323250042998)\n",
      "acc_open_past_24mths: (0.007420667106687749)\n",
      "inq_fi: (0.007404967411706728)\n",
      "num_il_tl: (0.007339507170175945)\n",
      "open_il_24m: (0.006876404000725424)\n",
      "num_bc_sats: (0.00678542812487817)\n",
      "open_act_il: (0.006660043732852357)\n",
      "open_rv_24m: (0.006599809671624734)\n",
      "mort_acc: (0.006393774120528892)\n",
      "total_rec_late_fee: (0.006391381020548387)\n",
      "num_tl_op_past_12m: (0.006065825838862652)\n",
      "open_acc_6m: (0.006004776142662084)\n",
      "next_pymnt_d_Apr-2019: (0.005920335354841418)\n",
      "open_rv_12m: (0.005413306654546768)\n",
      "open_il_12m: (0.005248840731650208)\n",
      "issue_d_Feb-2019: (0.00487120814476765)\n",
      "next_pymnt_d_May-2019: (0.004802823221798599)\n",
      "inq_last_6mths: (0.0047562588132075015)\n",
      "delinq_2yrs: (0.0045238834578884635)\n",
      "num_accts_ever_120_pd: (0.0039029173953907185)\n",
      "tot_coll_amt: (0.003789677267237295)\n",
      "home_ownership_OWN: (0.0020853638216694215)\n",
      "home_ownership_MORTGAGE: (0.0020060097354201176)\n",
      "verification_status_Source Verified: (0.001984067551288744)\n",
      "verification_status_Verified: (0.0018789153640443002)\n",
      "verification_status_Not Verified: (0.0018544555674736187)\n",
      "home_ownership_RENT: (0.0016995259802440514)\n",
      "pub_rec_bankruptcies: (0.001520907850775936)\n",
      "pub_rec: (0.0014185754855487824)\n",
      "initial_list_status_f: (0.0013879548937552864)\n",
      "application_type_Individual: (0.001239058844214324)\n",
      "num_tl_90g_dpd_24m: (0.0011046122443753368)\n",
      "initial_list_status_w: (0.000805030988421211)\n",
      "application_type_Joint App: (0.000710297252940571)\n",
      "collections_12_mths_ex_med: (0.0006949062181389056)\n",
      "home_ownership_ANY: (0.00013272979926763346)\n",
      "tax_liens: (0.0)\n",
      "recoveries: (0.0)\n",
      "pymnt_plan_n: (0.0)\n",
      "policy_code: (0.0)\n",
      "num_tl_30dpd: (0.0)\n",
      "num_tl_120dpd_2m: (0.0)\n",
      "hardship_flag_N: (0.0)\n",
      "delinq_amnt: (0.0)\n",
      "debt_settlement_flag_N: (0.0)\n",
      "collection_recovery_fee: (0.0)\n",
      "chargeoff_within_12_mths: (0.0)\n",
      "acc_now_delinq: (0.0)\n"
     ]
    }
   ],
   "source": [
    "# List the features sorted in descending order by feature importance\n",
    "features_rank = sorted(zip(brfc.feature_importances_, X.columns), reverse=True)\n",
    "for feature in features_rank:\n",
    "    print(f\"{feature[1]}: ({feature[0]})\")"
   ]
  },
  {
   "cell_type": "markdown",
   "metadata": {},
   "source": [
    "### Easy Ensemble AdaBoost Classifier"
   ]
  },
  {
   "cell_type": "code",
   "execution_count": 23,
   "metadata": {},
   "outputs": [
    {
     "data": {
      "text/plain": [
       "EasyEnsembleClassifier(n_estimators=100, random_state=1)"
      ]
     },
     "execution_count": 23,
     "metadata": {},
     "output_type": "execute_result"
    }
   ],
   "source": [
    "# Train the EasyEnsembleClassifier\n",
    "from imblearn.ensemble import EasyEnsembleClassifier\n",
    "eec = EasyEnsembleClassifier(n_estimators=100, random_state=1)\n",
    "eec.fit(X_train, y_train)\n"
   ]
  },
  {
   "cell_type": "code",
   "execution_count": 24,
   "metadata": {},
   "outputs": [
    {
     "data": {
      "text/plain": [
       "0.925427358175101"
      ]
     },
     "execution_count": 24,
     "metadata": {},
     "output_type": "execute_result"
    }
   ],
   "source": [
    "# Calculated the balanced accuracy score\n",
    "y_pred = eec.predict(X_test)\n",
    "balanced_accuracy_score(y_test, y_pred)"
   ]
  },
  {
   "cell_type": "code",
   "execution_count": 27,
   "metadata": {},
   "outputs": [],
   "source": [
    "# Display the confusion matrix\n",
    "cm = confusion_matrix(y_test, y_pred)"
   ]
  },
  {
   "cell_type": "code",
   "execution_count": 28,
   "metadata": {},
   "outputs": [
    {
     "name": "stdout",
     "output_type": "stream",
     "text": [
      "                   pre       rec       spe        f1       geo       iba       sup\n",
      "\n",
      "  high_risk       0.07      0.91      0.94      0.14      0.93      0.85        87\n",
      "   low_risk       1.00      0.94      0.91      0.97      0.93      0.86     17118\n",
      "\n",
      "avg / total       0.99      0.94      0.91      0.97      0.93      0.86     17205\n",
      "\n"
     ]
    }
   ],
   "source": [
    "# Print the imbalanced classification report\n",
    "print(classification_report_imbalanced(y_test, y_pred))"
   ]
  },
  {
   "cell_type": "code",
   "execution_count": null,
   "metadata": {},
   "outputs": [],
   "source": []
  }
 ],
 "metadata": {
  "kernelspec": {
   "display_name": "Python 3",
   "language": "python",
   "name": "python3"
  },
  "language_info": {
   "codemirror_mode": {
    "name": "ipython",
    "version": 3
   },
   "file_extension": ".py",
   "mimetype": "text/x-python",
   "name": "python",
   "nbconvert_exporter": "python",
   "pygments_lexer": "ipython3",
   "version": "3.8.8"
  }
 },
 "nbformat": 4,
 "nbformat_minor": 2
}
